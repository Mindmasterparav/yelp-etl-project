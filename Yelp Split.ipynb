{
 "cells": [
  {
   "cell_type": "code",
   "execution_count": 1,
   "id": "ed40e027-5d3d-449c-9e39-5536aaf58ea5",
   "metadata": {},
   "outputs": [],
   "source": [
    "import numpy as np\n",
    "import pandas as pd\n",
    "import json\n",
    "import os"
   ]
  },
  {
   "cell_type": "code",
   "execution_count": 2,
   "id": "a1568e2a-4659-41a9-aa0e-260443b4c2bf",
   "metadata": {},
   "outputs": [
    {
     "name": "stdout",
     "output_type": "stream",
     "text": [
      "F:\\Yelp JSON\n",
      "\n",
      "['.ipynb_checkpoints', 'Dataset_User_Agreement.pdf', 'split_file_1.json', 'split_file_10.json', 'split_file_2.json', 'split_file_3.json', 'split_file_4.json', 'split_file_5.json', 'split_file_6.json', 'split_file_7.json', 'split_file_8.json', 'split_file_9.json', 'Yelp Dataset Documentation & ToS copy.pdf', 'Yelp Split.ipynb', 'yelp_academic_dataset_business.json', 'yelp_academic_dataset_checkin.json', 'yelp_academic_dataset_review.json', 'yelp_academic_dataset_tip.json', 'yelp_academic_dataset_user.json', 'yelp_dataset.tar']\n"
     ]
    }
   ],
   "source": [
    "print(os.getcwd())\n",
    "print()\n",
    "print(os.listdir())"
   ]
  },
  {
   "cell_type": "code",
   "execution_count": 3,
   "id": "ecd02c75-e598-4cbb-aa40-cbd61c463b15",
   "metadata": {},
   "outputs": [
    {
     "name": "stdout",
     "output_type": "stream",
     "text": [
      "Total lines in orignal input file: 6990280 and lines in each split_file: 699028\n",
      "JSON file successfully split into multiple parts\n"
     ]
    }
   ],
   "source": [
    "input_file=\"yelp_academic_dataset_review.json\"\n",
    "output_prefix=\"split_file\"\n",
    "num_files=10\n",
    "\n",
    "with open(input_file,\"r\", encoding=\"utf8\") as f:\n",
    "    total_lines=sum(1 for _ in f)    ### CALCULATES TOTAL NO OF LINES IN INPUT_FILE\n",
    "\n",
    "lines_per_file=total_lines//num_files ## NO OF SPLIT FILES ARE 10 SO WE CALCULATE HOW MANY LINES EACH SPLIT FILE WILL HAVE \n",
    "\n",
    "print(f\"Total lines in orignal input file: {total_lines} and lines in each split_file: {lines_per_file}\")\n",
    "\n",
    "## SPLITTING IN MULTIPLE SMALLER FILES\n",
    "\n",
    "with open(input_file,\"r\",encoding=\"utf8\") as f:  ### MAIN OUTER LOOP\n",
    "    for i in range(num_files):\n",
    "        output_filename=f\"{output_prefix}_{i+1}.json\"   ### CREATES SPLIT FILE NAMES\n",
    "\n",
    "        with open(output_filename,\"w\",encoding=\"utf8\") as out_file: ## WORKS IN LOOP AND CREATES CREATES SPLIT FILE\n",
    "            for j in range(lines_per_file):  ## LOOP RUN 10000 TIMES\n",
    "                line=f.readline()   ##Reads one line from the original input JSON file. Each call to f.readline() moves the file pointer to the next line.\n",
    "                if not line:\n",
    "                    break\n",
    "                out_file.write(line)  ## Writes the current line (from the input file) into the split file.\n",
    "print(\"JSON file successfully split into multiple parts\")\n"
   ]
  },
  {
   "cell_type": "code",
   "execution_count": null,
   "id": "0f2832aa-c7b3-41fc-b763-6dfa1fddf603",
   "metadata": {},
   "outputs": [],
   "source": []
  }
 ],
 "metadata": {
  "kernelspec": {
   "display_name": "Python_Kernel",
   "language": "python",
   "name": "yelp_analysis"
  },
  "language_info": {
   "codemirror_mode": {
    "name": "ipython",
    "version": 3
   },
   "file_extension": ".py",
   "mimetype": "text/x-python",
   "name": "python",
   "nbconvert_exporter": "python",
   "pygments_lexer": "ipython3",
   "version": "3.12.3"
  }
 },
 "nbformat": 4,
 "nbformat_minor": 5
}
